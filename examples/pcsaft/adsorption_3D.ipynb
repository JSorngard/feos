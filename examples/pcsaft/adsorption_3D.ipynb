{
 "cells": [
  {
   "cell_type": "code",
   "execution_count": 1,
   "id": "5d71d7bc",
   "metadata": {},
   "outputs": [
    {
     "name": "stderr",
     "output_type": "stream",
     "text": [
      "/home/bauer/opt/anaconda3/lib/python3.9/site-packages/scipy/__init__.py:146: UserWarning: A NumPy version >=1.16.5 and <1.23.0 is required for this version of SciPy (detected version 1.24.2\n",
      "  warnings.warn(f\"A NumPy version >={np_minversion} and <{np_maxversion}\"\n"
     ]
    }
   ],
   "source": [
    "from feos.si import *\n",
    "from feos.dft import Pore3D, Adsorption3D, DFTSolver, FMTVersion, HelmholtzEnergyFunctional\n",
    "from feos.pcsaft import PcSaftParameters\n",
    "\n",
    "import pandas as pd\n",
    "import numpy as np\n",
    "\n",
    "from pymatgen.core import Structure\n",
    "from pymatgen.analysis import structure_matcher\n",
    "\n",
    "import matplotlib.pyplot as plt"
   ]
  },
  {
   "cell_type": "code",
   "execution_count": 2,
   "id": "23179a2c",
   "metadata": {},
   "outputs": [
    {
     "name": "stdout",
     "output_type": "stream",
     "text": [
      "formula:   Zn12 H120 C96 N48\n",
      "num_sites: 276\n"
     ]
    },
    {
     "name": "stderr",
     "output_type": "stream",
     "text": [
      "/home/bauer/opt/anaconda3/lib/python3.9/site-packages/pymatgen/io/cif.py:667: UserWarning: A 1-line symmetry op P1 CIF is detected!\n",
      "  warnings.warn(msg)\n",
      "/home/bauer/opt/anaconda3/lib/python3.9/site-packages/pymatgen/io/cif.py:1153: UserWarning: Issues encountered while parsing CIF: A 1-line symmetry op P1 CIF is detected!\n",
      "  warnings.warn(\"Issues encountered while parsing CIF: \" + \"\\n\".join(self.warnings))\n"
     ]
    }
   ],
   "source": [
    "structure = Structure.from_file('structure_parameters/ZIF-8.cif')\n",
    "print('formula:  ', structure.formula)\n",
    "print('num_sites:', structure.num_sites)"
   ]
  },
  {
   "cell_type": "code",
   "execution_count": 3,
   "id": "4dbd6ee4",
   "metadata": {},
   "outputs": [],
   "source": [
    "coordinates = structure.cart_coords.T * ANGSTROM\n",
    "system_size = [l * ANGSTROM for l in structure.lattice.lengths]"
   ]
  },
  {
   "cell_type": "code",
   "execution_count": 4,
   "id": "1164f2b9",
   "metadata": {},
   "outputs": [
    {
     "data": {
      "text/html": [
       "<div>\n",
       "<style scoped>\n",
       "    .dataframe tbody tr th:only-of-type {\n",
       "        vertical-align: middle;\n",
       "    }\n",
       "\n",
       "    .dataframe tbody tr th {\n",
       "        vertical-align: top;\n",
       "    }\n",
       "\n",
       "    .dataframe thead th {\n",
       "        text-align: right;\n",
       "    }\n",
       "</style>\n",
       "<table border=\"1\" class=\"dataframe\">\n",
       "  <thead>\n",
       "    <tr style=\"text-align: right;\">\n",
       "      <th></th>\n",
       "      <th>type</th>\n",
       "      <th>sigma</th>\n",
       "      <th>epsilon</th>\n",
       "      <th>mass</th>\n",
       "    </tr>\n",
       "  </thead>\n",
       "  <tbody>\n",
       "    <tr>\n",
       "      <th>0</th>\n",
       "      <td>O</td>\n",
       "      <td>3.03300</td>\n",
       "      <td>48.1581</td>\n",
       "      <td>15.99900</td>\n",
       "    </tr>\n",
       "    <tr>\n",
       "      <th>1</th>\n",
       "      <td>C</td>\n",
       "      <td>3.47299</td>\n",
       "      <td>47.8562</td>\n",
       "      <td>12.01070</td>\n",
       "    </tr>\n",
       "    <tr>\n",
       "      <th>2</th>\n",
       "      <td>H</td>\n",
       "      <td>2.84600</td>\n",
       "      <td>7.6489</td>\n",
       "      <td>1.00784</td>\n",
       "    </tr>\n",
       "    <tr>\n",
       "      <th>3</th>\n",
       "      <td>N</td>\n",
       "      <td>3.26250</td>\n",
       "      <td>38.9492</td>\n",
       "      <td>14.00670</td>\n",
       "    </tr>\n",
       "    <tr>\n",
       "      <th>4</th>\n",
       "      <td>B</td>\n",
       "      <td>3.58100</td>\n",
       "      <td>47.8059</td>\n",
       "      <td>10.81100</td>\n",
       "    </tr>\n",
       "    <tr>\n",
       "      <th>5</th>\n",
       "      <td>Zn</td>\n",
       "      <td>1.33000</td>\n",
       "      <td>109.4710</td>\n",
       "      <td>65.38000</td>\n",
       "    </tr>\n",
       "  </tbody>\n",
       "</table>\n",
       "</div>"
      ],
      "text/plain": [
       "  type    sigma   epsilon      mass\n",
       "0    O  3.03300   48.1581  15.99900\n",
       "1    C  3.47299   47.8562  12.01070\n",
       "2    H  2.84600    7.6489   1.00784\n",
       "3    N  3.26250   38.9492  14.00670\n",
       "4    B  3.58100   47.8059  10.81100\n",
       "5   Zn  1.33000  109.4710  65.38000"
      ]
     },
     "execution_count": 4,
     "metadata": {},
     "output_type": "execute_result"
    }
   ],
   "source": [
    "forcefield = pd.read_csv('structure_parameters/DREIDING.dat',delim_whitespace=True,names=[\"type\",\"sigma\",\"epsilon\",\"mass\"])\n",
    "forcefield"
   ]
  },
  {
   "cell_type": "code",
   "execution_count": 5,
   "id": "b1ee608f",
   "metadata": {},
   "outputs": [],
   "source": [
    "sigma = np.zeros(structure.num_sites)\n",
    "epsilon = np.zeros(structure.num_sites)\n",
    "\n",
    "mass = 0.0\n",
    "\n",
    "for i, site in enumerate(structure):\n",
    "    sigma[i] = forcefield[\"sigma\"][forcefield[\"type\"]==site.species_string]\n",
    "    epsilon[i] = forcefield[\"epsilon\"][forcefield[\"type\"]==site.species_string]\n",
    "    mass = mass + float(forcefield[\"mass\"][forcefield[\"type\"]==site.species_string]) * 1.6605402E-27"
   ]
  },
  {
   "cell_type": "code",
   "execution_count": 6,
   "id": "f873352b",
   "metadata": {},
   "outputs": [
    {
     "data": {
      "text/plain": [
       "<mpl_toolkits.mplot3d.art3d.Path3DCollection at 0x7f1a66f978b0>"
      ]
     },
     "execution_count": 6,
     "metadata": {},
     "output_type": "execute_result"
    },
    {
     "data": {
      "image/png": "[encoded data removed]",
      "text/plain": [
       "<Figure size 432x288 with 1 Axes>"
      ]
     },
     "metadata": {
      "needs_background": "light"
     },
     "output_type": "display_data"
    }
   ],
   "source": [
    "from mpl_toolkits.mplot3d import Axes3D\n",
    "fig = plt.figure()\n",
    "ax = fig.add_subplot(111, projection='3d')\n",
    "ax.scatter(xs=structure.cart_coords[:,0],ys=structure.cart_coords[:,1],zs=structure.cart_coords[:,2],s=20)"
   ]
  },
  {
   "cell_type": "code",
   "execution_count": 16,
   "id": "83ccefcc",
   "metadata": {},
   "outputs": [],
   "source": [
    "params = PcSaftParameters.from_json(['methane'], '../../parameters/pcsaft/gross2001.json')\n",
    "func = HelmholtzEnergyFunctional.pcsaft(params, FMTVersion.AntiSymWhiteBear)\n",
    "\n",
    "T = 303 * KELVIN"
   ]
  },
  {
   "cell_type": "code",
   "execution_count": 17,
   "id": "386f3737",
   "metadata": {},
   "outputs": [
    {
     "data": {
      "text/latex": [
       "$2.369\\times10^{-27}\\,\\mathrm{m^{3}}$"
      ],
      "text/plain": [
       "2.3689628728234253e-27 m³"
      ]
     },
     "execution_count": 17,
     "metadata": {},
     "output_type": "execute_result"
    }
   ],
   "source": [
    "pore = Pore3D(system_size, [64, 64, 64], coordinates, sigma, epsilon)\n",
    "pore.pore_volume"
   ]
  },
  {
   "cell_type": "markdown",
   "id": "b9927a1a-cb8a-43a4-be95-5d6aaf861192",
   "metadata": {},
   "source": [
    "## Generate external potential outside of adsorption isotherm.\n",
    "\n",
    "The external potential contains the inverse temperature, i.e. the return value is $\\beta V_\\text{ext}(\\mathbf{r})$."
   ]
  },
  {
   "cell_type": "code",
   "execution_count": 18,
   "id": "92ff4fd0-5a65-4345-bcfb-3f442b1ab025",
   "metadata": {},
   "outputs": [],
   "source": [
    "v_ext = pore.external_potential_3d(func, T)"
   ]
  },
  {
   "cell_type": "code",
   "execution_count": 19,
   "id": "1be41244-9ea4-4e5e-9420-e30a4aa81d8e",
   "metadata": {},
   "outputs": [
    {
     "data": {
      "text/plain": [
       "(1, 64, 64, 64)"
      ]
     },
     "execution_count": 19,
     "metadata": {},
     "output_type": "execute_result"
    }
   ],
   "source": [
    "v_ext.shape"
   ]
  },
  {
   "cell_type": "markdown",
   "id": "15c00957-e737-4d0f-927f-b3cf3809a9f9",
   "metadata": {},
   "source": [
    "## Build solver"
   ]
  },
  {
   "cell_type": "code",
   "execution_count": 9,
   "id": "3cc82b65",
   "metadata": {},
   "outputs": [
    {
     "data": {
      "text/markdown": [
       "|solver|log|max_iter|tol|beta|mmax|max_rel|\n",
       "|-|:-:|-:|-:|-:|-:|-:|\n",
       "|Picard Iteration||50|1e-11|0.01||1|\n",
       "|Picard Iteration||500|1e-5|0.1||1|\n",
       "|Anderson Mixing||150|1e-8|0.15|10||"
      ],
      "text/plain": [
       "Picard Iteration (max_rel=1) max_iter: 50, tol: 0.00000000001, beta: 0.01\n",
       "Picard Iteration (max_rel=1) max_iter: 500, tol: 0.00001, beta: 0.1\n",
       "Anderson Mixing (mmax=10) max_iter: 150, tol: 0.00000001, beta: 0.15"
      ]
     },
     "execution_count": 9,
     "metadata": {},
     "output_type": "execute_result"
    }
   ],
   "source": [
    "solver = DFTSolver().picard_iteration(damping_coefficient=0.01,max_iter=50).picard_iteration(damping_coefficient=0.1,tol=1.0e-5).anderson_mixing(mmax=10,tol=1.0e-8)\n",
    "solver"
   ]
  },
  {
   "cell_type": "code",
   "execution_count": 10,
   "id": "d221cd86",
   "metadata": {},
   "outputs": [
    {
     "name": "stdout",
     "output_type": "stream",
     "text": [
      "CPU times: user 17min 11s, sys: 2min 13s, total: 19min 25s\n",
      "Wall time: 19min 18s\n"
     ]
    }
   ],
   "source": [
    "%%time\n",
    "pressure = SIArray1.linspace(100*PASCAL, 50*BAR, 20)\n",
    "isotherm = Adsorption3D.adsorption_isotherm(func, temperature = T, pressure = pressure, pore=pore, solver=solver)"
   ]
  },
  {
   "cell_type": "code",
   "execution_count": 11,
   "id": "7faf4a8d",
   "metadata": {},
   "outputs": [
    {
     "data": {
      "text/plain": [
       "Text(0, 0.5, 'N')"
      ]
     },
     "execution_count": 11,
     "metadata": {},
     "output_type": "execute_result"
    },
    {
     "data": {
      "image/png": "[encoded data removed]",
      "text/plain": [
       "<Figure size 432x288 with 1 Axes>"
      ]
     },
     "metadata": {
      "needs_background": "light"
     },
     "output_type": "display_data"
    }
   ],
   "source": [
    "plt.plot(isotherm.pressure/BAR, isotherm.total_adsorption*NAV)\n",
    "plt.axis([0,50,0,17.5])\n",
    "plt.xlabel('p / bar')\n",
    "plt.ylabel('N')"
   ]
  }
 ],
 "metadata": {
  "kernelspec": {
   "display_name": "Python 3 (ipykernel)",
   "language": "python",
   "name": "python3"
  },
  "language_info": {
   "codemirror_mode": {
    "name": "ipython",
    "version": 3
   },
   "file_extension": ".py",
   "mimetype": "text/x-python",
   "name": "python",
   "nbconvert_exporter": "python",
   "pygments_lexer": "ipython3",
   "version": "3.9.12"
  }
 },
 "nbformat": 4,
 "nbformat_minor": 5
}
