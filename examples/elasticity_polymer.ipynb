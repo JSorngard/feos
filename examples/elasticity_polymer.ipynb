{
 "cells": [
  {
   "cell_type": "code",
   "execution_count": 1,
   "id": "caa0603e-a738-4c95-a1ba-e011ae26fd26",
   "metadata": {},
   "outputs": [],
   "source": [
    "from feos import *\n",
    "from feos.si import *\n",
    "from feos.eos import *\n",
    "from feos.pcsaft import *\n",
    "import numpy as np\n",
    "import pandas as pd"
   ]
  },
  {
   "cell_type": "markdown",
   "id": "243ecd5f-7754-42f8-9b85-51a9d0abe019",
   "metadata": {},
   "source": [
    "## Parameter"
   ]
  },
  {
   "cell_type": "code",
   "execution_count": 13,
   "id": "554e57fb-98d8-4bb5-a743-aedea614a28b",
   "metadata": {},
   "outputs": [],
   "source": [
    "parameters_2b = PcSaftParameters.from_json(['water_2B'], 'rehner2020.json')\n",
    "parameters_3b = PcSaftParameters.from_json(['water_3B'], 'rehner2020.json')\n",
    "parameters_4c = PcSaftParameters.from_json(['water_4C'], 'rehner2020.json')"
   ]
  },
  {
   "cell_type": "markdown",
   "id": "32459541-6dcc-4f30-976f-dcb931edd7c6",
   "metadata": {},
   "source": [
    "## Zustandsgleichung"
   ]
  },
  {
   "cell_type": "code",
   "execution_count": 3,
   "id": "c0e5314a-71f2-453f-94f7-69caa69b89d6",
   "metadata": {},
   "outputs": [],
   "source": [
    "eos_2b = EquationOfState.pcsaft(parameters_2b)\n",
    "eos_3b = EquationOfState.pcsaft(parameters_3b)\n",
    "eos_4c = EquationOfState.pcsaft(parameters_4c)"
   ]
  },
  {
   "cell_type": "markdown",
   "id": "9dcc717a-66a7-4fcd-ae77-7caeb0b47d27",
   "metadata": {},
   "source": [
    "## Thermodynamischer Zustand"
   ]
  },
  {
   "cell_type": "markdown",
   "id": "d42a1286-d389-4652-b909-f4e7a42eb725",
   "metadata": {},
   "source": [
    "### 2B"
   ]
  },
  {
   "cell_type": "code",
   "execution_count": 4,
   "id": "b597fefc-fbde-485d-8ff3-b113a92ca795",
   "metadata": {},
   "outputs": [
    {
     "data": {
      "text/markdown": [
       "|component|molarweight|$m$|$\\sigma$|$\\varepsilon$|$\\mu$|$Q$|$\\kappa_{AB}$|$\\varepsilon_{AB}$|$N_A$|$N_B$|\n",
       "|-|-|-|-|-|-|-|-|-|-|-|\n",
       "|water_2B|18.01528|1|2.937523956051823|272.02757407828676|0|0|0.04448012165716923|3125.3202766200056|1|1|"
      ],
      "text/plain": [
       "PcSaftParameters(\n",
       "\tmolarweight=[18.01528]\n",
       "\tm=[1]\n",
       "\tsigma=[2.937523956051823]\n",
       "\tepsilon_k=[272.02757407828676]\n",
       "\tassociating=[0]\n",
       "\tkappa_ab=[0.04448012165716923]\n",
       "\tepsilon_k_ab=[3125.3202766200056]\n",
       "\tna=[1]\n",
       "\tnb=[1]\n",
       ")"
      ]
     },
     "execution_count": 4,
     "metadata": {},
     "output_type": "execute_result"
    }
   ],
   "source": [
    "parameters_2b"
   ]
  },
  {
   "cell_type": "code",
   "execution_count": 5,
   "id": "ea219181-bd15-4e94-9ea5-fba97124a3a6",
   "metadata": {},
   "outputs": [
    {
     "data": {
      "text/markdown": [
       "|temperature|density|\n",
       "|-|-|\n",
       "|298.10000 K|55.46388 kmol/m³|"
      ],
      "text/plain": [
       "T = 298.10000 K, ρ = 55.46388 kmol/m³"
      ]
     },
     "execution_count": 5,
     "metadata": {},
     "output_type": "execute_result"
    }
   ],
   "source": [
    "s_2b = State(eos_2b, temperature=298.1*KELVIN, pressure=1*BAR)\n",
    "s_2b"
   ]
  },
  {
   "cell_type": "code",
   "execution_count": 6,
   "id": "36e471ef-217a-4a7d-bc0b-929754f6fece",
   "metadata": {},
   "outputs": [
    {
     "name": "stdout",
     "output_type": "stream",
     "text": [
      "Ideal gas (QSPR)    \t: 15431.365606    J/mol\n",
      "Hard Sphere         \t: 9019.023404     J/mol\n",
      "Hard Chain          \t: 0.000000        J/mol\n",
      "Dispersion          \t: -13932.565538   J/mol\n",
      "Association         \t: -19058.994923   J/mol\n"
     ]
    }
   ],
   "source": [
    "for name, value in s_2b.helmholtz_energy_contributions():\n",
    "    print(f\"{name:<20}\\t: {value * NAV / JOULE * MOL:<15.6f} J/mol\")"
   ]
  },
  {
   "cell_type": "markdown",
   "id": "3c0169e4-d530-4235-a793-5001a79e36b3",
   "metadata": {},
   "source": [
    "### 3B"
   ]
  },
  {
   "cell_type": "code",
   "execution_count": 7,
   "id": "e3699572-a357-4c12-b209-655e22597582",
   "metadata": {},
   "outputs": [
    {
     "data": {
      "text/markdown": [
       "|component|molarweight|$m$|$\\sigma$|$\\varepsilon$|$\\mu$|$Q$|$\\kappa_{AB}$|$\\varepsilon_{AB}$|$N_A$|$N_B$|\n",
       "|-|-|-|-|-|-|-|-|-|-|-|\n",
       "|water_3B|18.01528|1.6330279759286626|2.4570046159550527|238.31794591948915|0|0|0.037807044304069184|2749.004567423258|2|1|"
      ],
      "text/plain": [
       "PcSaftParameters(\n",
       "\tmolarweight=[18.01528]\n",
       "\tm=[1.6330279759286626]\n",
       "\tsigma=[2.4570046159550527]\n",
       "\tepsilon_k=[238.31794591948915]\n",
       "\tassociating=[0]\n",
       "\tkappa_ab=[0.037807044304069184]\n",
       "\tepsilon_k_ab=[2749.004567423258]\n",
       "\tna=[2]\n",
       "\tnb=[1]\n",
       ")"
      ]
     },
     "execution_count": 7,
     "metadata": {},
     "output_type": "execute_result"
    }
   ],
   "source": [
    "parameters_3b"
   ]
  },
  {
   "cell_type": "code",
   "execution_count": 8,
   "id": "4d2cc9ce-2e82-49fc-95de-8acc4b55dd83",
   "metadata": {},
   "outputs": [
    {
     "data": {
      "text/markdown": [
       "|temperature|density|\n",
       "|-|-|\n",
       "|298.10000 K|55.89010 kmol/m³|"
      ],
      "text/plain": [
       "T = 298.10000 K, ρ = 55.89010 kmol/m³"
      ]
     },
     "execution_count": 8,
     "metadata": {},
     "output_type": "execute_result"
    }
   ],
   "source": [
    "s_3b = State(eos_3b, temperature=298.1*KELVIN, pressure=1*BAR)\n",
    "s_3b"
   ]
  },
  {
   "cell_type": "code",
   "execution_count": 9,
   "id": "d9523a3c-158d-45cf-b380-b1ac7a6f9e1d",
   "metadata": {},
   "outputs": [
    {
     "name": "stdout",
     "output_type": "stream",
     "text": [
      "Ideal gas (QSPR)    \t: 15450.339682    J/mol\n",
      "Hard Sphere         \t: 13398.315169    J/mol\n",
      "Hard Chain          \t: -2145.040856    J/mol\n",
      "Dispersion          \t: -17921.694693   J/mol\n",
      "Association         \t: -17365.878605   J/mol\n"
     ]
    }
   ],
   "source": [
    "for name, value in s_3b.helmholtz_energy_contributions():\n",
    "    print(f\"{name:<20}\\t: {value * NAV / JOULE * MOL:<15.6f} J/mol\")"
   ]
  },
  {
   "cell_type": "markdown",
   "id": "0301cd93-1262-499c-b240-159913bbf9f1",
   "metadata": {},
   "source": [
    "### 4C"
   ]
  },
  {
   "cell_type": "code",
   "execution_count": 10,
   "id": "990eea8e-a878-44fa-918c-e7ae299b6c6d",
   "metadata": {},
   "outputs": [
    {
     "data": {
      "text/markdown": [
       "|component|molarweight|$m$|$\\sigma$|$\\varepsilon$|$\\mu$|$Q$|$\\kappa_{AB}$|$\\varepsilon_{AB}$|$N_A$|$N_B$|\n",
       "|-|-|-|-|-|-|-|-|-|-|-|\n",
       "|water_4C|18.01528|1.866828208262284|2.395032022200541|169.7751872692369|0|0|0.13373757842938191|1772.0393059972052|2|2|"
      ],
      "text/plain": [
       "PcSaftParameters(\n",
       "\tmolarweight=[18.01528]\n",
       "\tm=[1.866828208262284]\n",
       "\tsigma=[2.395032022200541]\n",
       "\tepsilon_k=[169.7751872692369]\n",
       "\tassociating=[0]\n",
       "\tkappa_ab=[0.13373757842938191]\n",
       "\tepsilon_k_ab=[1772.0393059972052]\n",
       "\tna=[2]\n",
       "\tnb=[2]\n",
       ")"
      ]
     },
     "execution_count": 10,
     "metadata": {},
     "output_type": "execute_result"
    }
   ],
   "source": [
    "parameters_4c"
   ]
  },
  {
   "cell_type": "code",
   "execution_count": 11,
   "id": "a652717c-6cec-4a31-b59e-9188a35f9bc8",
   "metadata": {},
   "outputs": [
    {
     "data": {
      "text/markdown": [
       "|temperature|density|\n",
       "|-|-|\n",
       "|298.10000 K|55.21791 kmol/m³|"
      ],
      "text/plain": [
       "T = 298.10000 K, ρ = 55.21791 kmol/m³"
      ]
     },
     "execution_count": 11,
     "metadata": {},
     "output_type": "execute_result"
    }
   ],
   "source": [
    "s_4c = State(eos_4c, temperature=298.1*KELVIN, pressure=1*BAR)\n",
    "s_4c"
   ]
  },
  {
   "cell_type": "code",
   "execution_count": 12,
   "id": "0f374cfb-e26e-4d51-be84-e64e7b6bcb05",
   "metadata": {},
   "outputs": [
    {
     "name": "stdout",
     "output_type": "stream",
     "text": [
      "Ideal gas (QSPR)    \t: 15420.349496    J/mol\n",
      "Hard Sphere         \t: 15683.846063    J/mol\n",
      "Hard Chain          \t: -2985.650102    J/mol\n",
      "Dispersion          \t: -15017.782883   J/mol\n",
      "Association         \t: -21677.693979   J/mol\n"
     ]
    }
   ],
   "source": [
    "for name, value in s_4c.helmholtz_energy_contributions():\n",
    "    print(f\"{name:<20}\\t: {value * NAV / JOULE * MOL:<15.6f} J/mol\")"
   ]
  },
  {
   "cell_type": "code",
   "execution_count": 13,
   "id": "cc68b750-7947-4af0-9d9d-704ea4da0062",
   "metadata": {},
   "outputs": [
    {
     "data": {
      "text/plain": [
       "(0.0007306743801645198, 0.0007306743801645197)"
      ]
     },
     "execution_count": 13,
     "metadata": {},
     "output_type": "execute_result"
    }
   ],
   "source": [
    "s_4c.compressibility(), s_4c.pressure() / s_4c.density / RGAS / s_4c.temperature"
   ]
  },
  {
   "cell_type": "code",
   "execution_count": 14,
   "id": "556c9d88-2eed-44c4-baf0-ee07b2b69865",
   "metadata": {},
   "outputs": [
    {
     "data": {
      "text/plain": [
       "46.790114485764214"
      ]
     },
     "execution_count": 14,
     "metadata": {},
     "output_type": "execute_result"
    }
   ],
   "source": [
    "np.rad2deg(np.sin(109.5 / 2 * np.pi / 180))"
   ]
  },
  {
   "cell_type": "markdown",
   "id": "1f393442-c55b-46f3-a91f-1e9dd39dd1b8",
   "metadata": {},
   "source": [
    "# Polymer + Wasser"
   ]
  },
  {
   "cell_type": "code",
   "execution_count": 18,
   "id": "46ae02e8-8004-46e6-a17f-8b9fc12b0664",
   "metadata": {},
   "outputs": [],
   "source": [
    "# we need to rebuild the EOS for each temperature since\n",
    "# sigma and k_ij are functions of temperature\n",
    "def equation_of_state(temperature, mw_monomer, mw_linker, phi, y, verbose=False):\n",
    "    \"\"\"Build equation of state for given temperature in Kelvin.\"\"\"\n",
    "    \n",
    "    # water\n",
    "    # na = nb = 1 (2B association)\n",
    "    sigma_water = 2.7927 + 10.11 * np.exp(-0.01775 * temperature) - 1.417 * np.exp(-0.01146 * temperature)\n",
    "    water = PureRecord(\n",
    "        Identifier(name='water'),\n",
    "        molarweight=18.01528,\n",
    "        model_record=PcSaftRecord(m=1.2047, sigma=sigma_water, epsilon_k=353.95, epsilon_k_ab=2425.67, kappa_ab=0.0451, na=1, nb=1)\n",
    "    )\n",
    "    \n",
    "    # polymer\n",
    "    n_linker = y / (1 - y) * GRAM / mw_monomer\n",
    "    n_polymer = phi / 2.0 * n_linker\n",
    "    mw_polymer = (GRAM + n_linker * mw_linker) / n_polymer\n",
    "    m = mw_polymer / mw_monomer\n",
    "    \n",
    "    na = nb = 90\n",
    "    polymer = PureRecord(\n",
    "        Identifier(name='polymer'),\n",
    "        molarweight=mw_polymer / GRAM * MOL,\n",
    "        model_record=PcSaftRecord(m=m, sigma=5.38, epsilon_k=297.343, epsilon_k_ab=175, kappa_ab=0.045, na=na, nb=nb)\n",
    "    )\n",
    "    \n",
    "    # binary interaction parameter\n",
    "    k_ij = -0.17 + 0.0013 * (temperature - 298.15)\n",
    "    \n",
    "    # polymer index: 0\n",
    "    # water index: 1\n",
    "    parameters = PcSaftParameters.new_binary([polymer, water], k_ij)\n",
    "    \n",
    "    # elastic parameters\n",
    "    eos_pure = EquationOfState.pcsaft(PcSaftParameters.new_pure(polymer))\n",
    "    dry_polymer_density = State(eos_pure, temperature=temperature*KELVIN, pressure=1.0135*BAR).density\n",
    "    v0 = n_polymer / ANGSTROM**3 / dry_polymer_density\n",
    "    elastic = ElasticParameters(n_linker * NAV, n_polymer * NAV, v0, phi)\n",
    "    \n",
    "    if verbose:\n",
    "        print(f\"n_linker: {n_linker / MOL} mol\")\n",
    "        print(f\"n_polymer: {n_polymer / MOL} mol\")\n",
    "        print(f\"mw_polymer: {mw_polymer / GRAM * MOL} g/mol\")\n",
    "        print(\"m\", m)\n",
    "        print(f\"v0: {v0} A³\")\n",
    "        \n",
    "    return EquationOfState.pcsaft(parameters, elastic=elastic)"
   ]
  },
  {
   "cell_type": "code",
   "execution_count": 19,
   "id": "03966967-79a0-4d7c-831f-23315846109e",
   "metadata": {},
   "outputs": [],
   "source": [
    "def equation_of_state_pp():\n",
    "    \"\"\"Build equation of state for given temperature in Kelvin.\"\"\"\n",
    "   \n",
    "    # polymer\n",
    "    # na = nb = 1 per monomer\n",
    "    m = 89.60932075\n",
    "    na = nb = 90\n",
    "    mw = 10139.29464\n",
    "    polymer = PureRecord(\n",
    "        Identifier(name='polymer'),\n",
    "        molarweight=mw,\n",
    "        model_record=PcSaftRecord(m=m, sigma=5.38, epsilon_k=297.343, epsilon_k_ab=175, kappa_ab=0.045, na=na, nb=nb)\n",
    "    )    \n",
    "    # polymer index: 0\n",
    "    # water index: 1\n",
    "    parameters = PcSaftParameters.new_binary([polymer])\n",
    "    return EquationOfState.pcsaft(parameters)"
   ]
  },
  {
   "cell_type": "code",
   "execution_count": 20,
   "id": "f9f34ca3-9155-4c27-81d2-92255b05d3a5",
   "metadata": {},
   "outputs": [],
   "source": [
    "temperatures = np.array([\n",
    "    317.8510029,\n",
    "    313.1232092,\n",
    "    313.1232092,\n",
    "    306.6762178,\n",
    "    305.9598854,\n",
    "    308.3954155,\n",
    "    308.1088825,\n",
    "    305.9598854,\n",
    "    305.8166189,\n",
    "    305.1002865,\n",
    "    304.6704871,\n",
    "    304.3839542,\n",
    "    302.8080229,\n",
    "    302.9512894,\n",
    "    302.52149,\n",
    "    297.7936963,\n",
    "    297.6504298,\n",
    "    293.0659026,\n",
    "    292.7793696\n",
    "])\n",
    "\n",
    "x_polymer = np.array([\n",
    "    0.00150408209788188,\n",
    "    0.00150408209788188,\n",
    "    0.00126982511519473,\n",
    "    0.00207952783043735,\n",
    "    0.00020423279576647,\n",
    "    0.00207952783043735,\n",
    "    0.00150408209788188,\n",
    "    0.000226975457389918,\n",
    "    0.000175635327192893,\n",
    "    0.000155532334683888,\n",
    "    0.000143236350040674,\n",
    "    0.000134939067563479,\n",
    "    0.000100754335021515,\n",
    "    0.000102657259483328,\n",
    "    9.43421080566932E-05,\n",
    "    7.317410522015E-05,\n",
    "    7.2523209651888E-05,\n",
    "    5.99843098952374E-05,\n",
    "    5.91144720479721E-05\n",
    "])\n",
    "\n",
    "densities = np.array([\n",
    "    31622.1475685248,\n",
    "    31700.498450108,\n",
    "    33956.3399012912,\n",
    "    27334.1991995267,\n",
    "    50225.3892494127,\n",
    "    27310.3908429378,\n",
    "    31779.4212551547,\n",
    "    49724.5562178088,\n",
    "    50872.0802808432,\n",
    "    51347.5490495209,\n",
    "    51642.2525764164,\n",
    "    51842.8165327244,\n",
    "    52691.0971146765,\n",
    "    52642.3010022701,\n",
    "    52852.8084682972,\n",
    "    53449.9747942836,\n",
    "    53468.2760121439,\n",
    "    53841.8681872705,\n",
    "    53867.0890750594\n",
    "])"
   ]
  },
  {
   "cell_type": "code",
   "execution_count": 21,
   "id": "54e03dd3-a9d8-4c06-80a6-11c1e0a364c8",
   "metadata": {},
   "outputs": [
    {
     "name": "stdout",
     "output_type": "stream",
     "text": [
      "n_linker: 8.927096863464517e-05 mol\n",
      "n_polymer: 9.99834848708026e-05 mol\n",
      "mw_polymer: 10139.294642857143 g/mol\n",
      "m 89.60932074995264\n",
      "v0: 9.140769953403274e+23 A³\n"
     ]
    }
   ],
   "source": [
    "# check single state\n",
    "temperature = temperatures[0] * KELVIN\n",
    "x = np.array([x_polymer[0], 1-x_polymer[0]])\n",
    "density = densities[0] * MOL / METER**3\n",
    "\n",
    "mw_monomer = 113.15 * GRAM / MOL\n",
    "mw_linker = 154.16 * GRAM / MOL\n",
    "phi = 2.24\n",
    "y = 0.01\n",
    "\n",
    "eos = equation_of_state(temperature / KELVIN, mw_monomer, mw_linker, phi, y, verbose=True) # only use numeric value - without unit"
   ]
  },
  {
   "cell_type": "markdown",
   "id": "43f10db8-cee0-4947-b954-e04b5a44c251",
   "metadata": {},
   "source": [
    "# All states"
   ]
  },
  {
   "cell_type": "code",
   "execution_count": 22,
   "id": "bd55a404-9433-4c0d-b6f0-3d54fb031b65",
   "metadata": {},
   "outputs": [
    {
     "name": "stdout",
     "output_type": "stream",
     "text": [
      "CPU times: user 5 µs, sys: 1 µs, total: 6 µs\n",
      "Wall time: 10.3 µs\n"
     ]
    }
   ],
   "source": [
    "%time\n",
    "mw_monomer = 113.15 * GRAM / MOL\n",
    "mw_linker = 154.16 * GRAM / MOL\n",
    "phi = 2.24\n",
    "y = 0.01\n",
    "\n",
    "results = []\n",
    "for ti, xi, rhoi in zip(temperatures * KELVIN, x_polymer, densities * MOL / METER**3):\n",
    "    eos = equation_of_state(ti / KELVIN, mw_monomer, mw_linker, phi, y)\n",
    "    state = State(eos, ti, density=rhoi, molefracs=np.array([xi, 1-xi]))\n",
    "    contributions = state.helmholtz_energy_contributions()\n",
    "    ln_phi = state.ln_phi()\n",
    "    results.append({\n",
    "        \"temperature [K]\": ti / KELVIN, \n",
    "        \"x_polymer\": xi,\n",
    "        \"density [mol/m³]\": rhoi / MOL * METER**3,\n",
    "        \"A_assoc [J/mol]\": contributions[-2][1] * NAV / JOULE * MOL,\n",
    "        \"Z_assoc\": state.pressure_contributions()[-2][1] / state.density / RGAS / state.temperature,\n",
    "        \"A_elastic [J/mol]\": contributions[-1][1] * NAV / JOULE * MOL,\n",
    "        \"Z_elastic\": state.pressure_contributions()[-1][1] / state.density / RGAS / state.temperature,\n",
    "        \"p [bar]\": state.pressure() / BAR,\n",
    "        \"ln_phi\": ln_phi\n",
    "    })"
   ]
  },
  {
   "cell_type": "code",
   "execution_count": 23,
   "id": "e9981d8b-cb1b-4a36-920b-5eb41c7c8d73",
   "metadata": {},
   "outputs": [
    {
     "data": {
      "text/html": [
       "<div>\n",
       "<style scoped>\n",
       "    .dataframe tbody tr th:only-of-type {\n",
       "        vertical-align: middle;\n",
       "    }\n",
       "\n",
       "    .dataframe tbody tr th {\n",
       "        vertical-align: top;\n",
       "    }\n",
       "\n",
       "    .dataframe thead th {\n",
       "        text-align: right;\n",
       "    }\n",
       "</style>\n",
       "<table border=\"1\" class=\"dataframe\">\n",
       "  <thead>\n",
       "    <tr style=\"text-align: right;\">\n",
       "      <th></th>\n",
       "      <th>temperature [K]</th>\n",
       "      <th>x_polymer</th>\n",
       "      <th>density [mol/m³]</th>\n",
       "      <th>A_assoc [J/mol]</th>\n",
       "      <th>Z_assoc</th>\n",
       "      <th>A_elastic [J/mol]</th>\n",
       "      <th>Z_elastic</th>\n",
       "      <th>p [bar]</th>\n",
       "      <th>ln_phi</th>\n",
       "    </tr>\n",
       "  </thead>\n",
       "  <tbody>\n",
       "    <tr>\n",
       "      <th>0</th>\n",
       "      <td>317.851003</td>\n",
       "      <td>0.001504</td>\n",
       "      <td>31622.147569</td>\n",
       "      <td>-11712.416546</td>\n",
       "      <td>-3.106488</td>\n",
       "      <td>0.121314</td>\n",
       "      <td>-0.000121</td>\n",
       "      <td>1.114049</td>\n",
       "      <td>[-314.64878788281004, -2.46852697271931]</td>\n",
       "    </tr>\n",
       "    <tr>\n",
       "      <th>1</th>\n",
       "      <td>313.123209</td>\n",
       "      <td>0.001504</td>\n",
       "      <td>31700.498450</td>\n",
       "      <td>-11849.592916</td>\n",
       "      <td>-3.138008</td>\n",
       "      <td>0.120015</td>\n",
       "      <td>-0.000121</td>\n",
       "      <td>1.113040</td>\n",
       "      <td>[-325.20983117644585, -2.7191498527119875]</td>\n",
       "    </tr>\n",
       "    <tr>\n",
       "      <th>2</th>\n",
       "      <td>313.123209</td>\n",
       "      <td>0.001270</td>\n",
       "      <td>33956.339901</td>\n",
       "      <td>-11976.132591</td>\n",
       "      <td>-3.119271</td>\n",
       "      <td>0.130324</td>\n",
       "      <td>-0.000119</td>\n",
       "      <td>1.118111</td>\n",
       "      <td>[-324.3978720325559, -2.7248182997165107]</td>\n",
       "    </tr>\n",
       "    <tr>\n",
       "      <th>3</th>\n",
       "      <td>306.676218</td>\n",
       "      <td>0.002080</td>\n",
       "      <td>27334.199200</td>\n",
       "      <td>-11772.546939</td>\n",
       "      <td>-3.227157</td>\n",
       "      <td>0.099021</td>\n",
       "      <td>-0.000126</td>\n",
       "      <td>1.100416</td>\n",
       "      <td>[-340.071898734769, -3.065242270445012]</td>\n",
       "    </tr>\n",
       "    <tr>\n",
       "      <th>4</th>\n",
       "      <td>305.959885</td>\n",
       "      <td>0.000204</td>\n",
       "      <td>50225.389249</td>\n",
       "      <td>-12922.165221</td>\n",
       "      <td>-3.061159</td>\n",
       "      <td>0.194948</td>\n",
       "      <td>-0.000087</td>\n",
       "      <td>1.123528</td>\n",
       "      <td>[-342.01744689021587, -3.1259450757532115]</td>\n",
       "    </tr>\n",
       "    <tr>\n",
       "      <th>5</th>\n",
       "      <td>308.395416</td>\n",
       "      <td>0.002080</td>\n",
       "      <td>27310.390843</td>\n",
       "      <td>-11720.808215</td>\n",
       "      <td>-3.215073</td>\n",
       "      <td>0.099362</td>\n",
       "      <td>-0.000126</td>\n",
       "      <td>1.100837</td>\n",
       "      <td>[-336.34071057367976, -2.968102214309463]</td>\n",
       "    </tr>\n",
       "    <tr>\n",
       "      <th>6</th>\n",
       "      <td>308.108882</td>\n",
       "      <td>0.001504</td>\n",
       "      <td>31779.421255</td>\n",
       "      <td>-11995.700847</td>\n",
       "      <td>-3.171170</td>\n",
       "      <td>0.118694</td>\n",
       "      <td>-0.000122</td>\n",
       "      <td>1.111936</td>\n",
       "      <td>[-336.9246498308432, -2.9943514194349734]</td>\n",
       "    </tr>\n",
       "    <tr>\n",
       "      <th>7</th>\n",
       "      <td>305.959885</td>\n",
       "      <td>0.000227</td>\n",
       "      <td>49724.556218</td>\n",
       "      <td>-12902.206595</td>\n",
       "      <td>-3.063696</td>\n",
       "      <td>0.194113</td>\n",
       "      <td>-0.000089</td>\n",
       "      <td>1.125067</td>\n",
       "      <td>[-342.0559917008422, -3.1273045172465723]</td>\n",
       "    </tr>\n",
       "    <tr>\n",
       "      <th>8</th>\n",
       "      <td>305.816619</td>\n",
       "      <td>0.000176</td>\n",
       "      <td>50872.080281</td>\n",
       "      <td>-12951.366901</td>\n",
       "      <td>-3.058705</td>\n",
       "      <td>0.195430</td>\n",
       "      <td>-0.000084</td>\n",
       "      <td>1.121135</td>\n",
       "      <td>[-342.53951023094794, -3.1318363648056735]</td>\n",
       "    </tr>\n",
       "    <tr>\n",
       "      <th>9</th>\n",
       "      <td>305.100286</td>\n",
       "      <td>0.000156</td>\n",
       "      <td>51347.549050</td>\n",
       "      <td>-12988.243411</td>\n",
       "      <td>-3.060234</td>\n",
       "      <td>0.194983</td>\n",
       "      <td>-0.000082</td>\n",
       "      <td>1.118886</td>\n",
       "      <td>[-345.4298675422592, -3.170014516288221]</td>\n",
       "    </tr>\n",
       "    <tr>\n",
       "      <th>10</th>\n",
       "      <td>304.670487</td>\n",
       "      <td>0.000143</td>\n",
       "      <td>51642.252576</td>\n",
       "      <td>-13010.635892</td>\n",
       "      <td>-3.061099</td>\n",
       "      <td>0.194460</td>\n",
       "      <td>-0.000080</td>\n",
       "      <td>1.117265</td>\n",
       "      <td>[-347.2063001399374, -3.192770663194331]</td>\n",
       "    </tr>\n",
       "    <tr>\n",
       "      <th>11</th>\n",
       "      <td>304.383954</td>\n",
       "      <td>0.000135</td>\n",
       "      <td>51842.816533</td>\n",
       "      <td>-13025.679216</td>\n",
       "      <td>-3.061653</td>\n",
       "      <td>0.193976</td>\n",
       "      <td>-0.000079</td>\n",
       "      <td>1.116176</td>\n",
       "      <td>[-348.40891367342783, -3.20797326140273]</td>\n",
       "    </tr>\n",
       "    <tr>\n",
       "      <th>12</th>\n",
       "      <td>302.808023</td>\n",
       "      <td>0.000101</td>\n",
       "      <td>52691.097115</td>\n",
       "      <td>-13098.170778</td>\n",
       "      <td>-3.065919</td>\n",
       "      <td>0.190200</td>\n",
       "      <td>-0.000074</td>\n",
       "      <td>1.110172</td>\n",
       "      <td>[-355.2286229422633, -3.292147065775016]</td>\n",
       "    </tr>\n",
       "    <tr>\n",
       "      <th>13</th>\n",
       "      <td>302.951289</td>\n",
       "      <td>0.000103</td>\n",
       "      <td>52642.301002</td>\n",
       "      <td>-13092.681018</td>\n",
       "      <td>-3.065395</td>\n",
       "      <td>0.190524</td>\n",
       "      <td>-0.000074</td>\n",
       "      <td>1.110623</td>\n",
       "      <td>[-354.5994449528184, -3.284369174569454]</td>\n",
       "    </tr>\n",
       "    <tr>\n",
       "      <th>14</th>\n",
       "      <td>302.521490</td>\n",
       "      <td>0.000094</td>\n",
       "      <td>52852.808468</td>\n",
       "      <td>-13111.561961</td>\n",
       "      <td>-3.066650</td>\n",
       "      <td>0.189115</td>\n",
       "      <td>-0.000072</td>\n",
       "      <td>1.108814</td>\n",
       "      <td>[-356.50955446425144, -3.3073169708943597]</td>\n",
       "    </tr>\n",
       "    <tr>\n",
       "      <th>15</th>\n",
       "      <td>297.793696</td>\n",
       "      <td>0.000073</td>\n",
       "      <td>53449.974794</td>\n",
       "      <td>-13254.156834</td>\n",
       "      <td>-3.088641</td>\n",
       "      <td>0.182305</td>\n",
       "      <td>-0.000068</td>\n",
       "      <td>1.102628</td>\n",
       "      <td>[-377.9650242321505, -3.577261281594082]</td>\n",
       "    </tr>\n",
       "    <tr>\n",
       "      <th>16</th>\n",
       "      <td>297.650430</td>\n",
       "      <td>0.000073</td>\n",
       "      <td>53468.276012</td>\n",
       "      <td>-13258.483191</td>\n",
       "      <td>-3.089300</td>\n",
       "      <td>0.182059</td>\n",
       "      <td>-0.000068</td>\n",
       "      <td>1.102436</td>\n",
       "      <td>[-378.6386013423757, -3.5855873392351816]</td>\n",
       "    </tr>\n",
       "    <tr>\n",
       "      <th>17</th>\n",
       "      <td>293.065903</td>\n",
       "      <td>0.000060</td>\n",
       "      <td>53841.868187</td>\n",
       "      <td>-13389.233908</td>\n",
       "      <td>-3.111266</td>\n",
       "      <td>0.175826</td>\n",
       "      <td>-0.000065</td>\n",
       "      <td>1.097608</td>\n",
       "      <td>[-400.6746074844504, -3.858045768855541]</td>\n",
       "    </tr>\n",
       "    <tr>\n",
       "      <th>18</th>\n",
       "      <td>292.779370</td>\n",
       "      <td>0.000059</td>\n",
       "      <td>53867.089075</td>\n",
       "      <td>-13397.480058</td>\n",
       "      <td>-3.112617</td>\n",
       "      <td>0.175363</td>\n",
       "      <td>-0.000065</td>\n",
       "      <td>1.097329</td>\n",
       "      <td>[-402.0969413926332, -3.8754115360004215]</td>\n",
       "    </tr>\n",
       "  </tbody>\n",
       "</table>\n",
       "</div>"
      ],
      "text/plain": [
       "    temperature [K]  x_polymer  density [mol/m³]  A_assoc [J/mol]   Z_assoc  \\\n",
       "0        317.851003   0.001504      31622.147569    -11712.416546 -3.106488   \n",
       "1        313.123209   0.001504      31700.498450    -11849.592916 -3.138008   \n",
       "2        313.123209   0.001270      33956.339901    -11976.132591 -3.119271   \n",
       "3        306.676218   0.002080      27334.199200    -11772.546939 -3.227157   \n",
       "4        305.959885   0.000204      50225.389249    -12922.165221 -3.061159   \n",
       "5        308.395416   0.002080      27310.390843    -11720.808215 -3.215073   \n",
       "6        308.108882   0.001504      31779.421255    -11995.700847 -3.171170   \n",
       "7        305.959885   0.000227      49724.556218    -12902.206595 -3.063696   \n",
       "8        305.816619   0.000176      50872.080281    -12951.366901 -3.058705   \n",
       "9        305.100286   0.000156      51347.549050    -12988.243411 -3.060234   \n",
       "10       304.670487   0.000143      51642.252576    -13010.635892 -3.061099   \n",
       "11       304.383954   0.000135      51842.816533    -13025.679216 -3.061653   \n",
       "12       302.808023   0.000101      52691.097115    -13098.170778 -3.065919   \n",
       "13       302.951289   0.000103      52642.301002    -13092.681018 -3.065395   \n",
       "14       302.521490   0.000094      52852.808468    -13111.561961 -3.066650   \n",
       "15       297.793696   0.000073      53449.974794    -13254.156834 -3.088641   \n",
       "16       297.650430   0.000073      53468.276012    -13258.483191 -3.089300   \n",
       "17       293.065903   0.000060      53841.868187    -13389.233908 -3.111266   \n",
       "18       292.779370   0.000059      53867.089075    -13397.480058 -3.112617   \n",
       "\n",
       "    A_elastic [J/mol]  Z_elastic   p [bar]  \\\n",
       "0            0.121314  -0.000121  1.114049   \n",
       "1            0.120015  -0.000121  1.113040   \n",
       "2            0.130324  -0.000119  1.118111   \n",
       "3            0.099021  -0.000126  1.100416   \n",
       "4            0.194948  -0.000087  1.123528   \n",
       "5            0.099362  -0.000126  1.100837   \n",
       "6            0.118694  -0.000122  1.111936   \n",
       "7            0.194113  -0.000089  1.125067   \n",
       "8            0.195430  -0.000084  1.121135   \n",
       "9            0.194983  -0.000082  1.118886   \n",
       "10           0.194460  -0.000080  1.117265   \n",
       "11           0.193976  -0.000079  1.116176   \n",
       "12           0.190200  -0.000074  1.110172   \n",
       "13           0.190524  -0.000074  1.110623   \n",
       "14           0.189115  -0.000072  1.108814   \n",
       "15           0.182305  -0.000068  1.102628   \n",
       "16           0.182059  -0.000068  1.102436   \n",
       "17           0.175826  -0.000065  1.097608   \n",
       "18           0.175363  -0.000065  1.097329   \n",
       "\n",
       "                                        ln_phi  \n",
       "0     [-314.64878788281004, -2.46852697271931]  \n",
       "1   [-325.20983117644585, -2.7191498527119875]  \n",
       "2    [-324.3978720325559, -2.7248182997165107]  \n",
       "3      [-340.071898734769, -3.065242270445012]  \n",
       "4   [-342.01744689021587, -3.1259450757532115]  \n",
       "5    [-336.34071057367976, -2.968102214309463]  \n",
       "6    [-336.9246498308432, -2.9943514194349734]  \n",
       "7    [-342.0559917008422, -3.1273045172465723]  \n",
       "8   [-342.53951023094794, -3.1318363648056735]  \n",
       "9     [-345.4298675422592, -3.170014516288221]  \n",
       "10    [-347.2063001399374, -3.192770663194331]  \n",
       "11    [-348.40891367342783, -3.20797326140273]  \n",
       "12    [-355.2286229422633, -3.292147065775016]  \n",
       "13    [-354.5994449528184, -3.284369174569454]  \n",
       "14  [-356.50955446425144, -3.3073169708943597]  \n",
       "15    [-377.9650242321505, -3.577261281594082]  \n",
       "16   [-378.6386013423757, -3.5855873392351816]  \n",
       "17    [-400.6746074844504, -3.858045768855541]  \n",
       "18   [-402.0969413926332, -3.8754115360004215]  "
      ]
     },
     "execution_count": 23,
     "metadata": {},
     "output_type": "execute_result"
    }
   ],
   "source": [
    "res = pd.DataFrame(results)\n",
    "res"
   ]
  },
  {
   "cell_type": "code",
   "execution_count": 24,
   "id": "e06c7d98-e656-4f02-b2db-fbddf883f128",
   "metadata": {},
   "outputs": [
    {
     "data": {
      "text/plain": [
       "array([-1.21139304e-04, -1.21441502e-04, -1.19203753e-04, -1.25740059e-04,\n",
       "       -8.69080649e-05, -1.25585448e-04, -1.21805842e-04, -8.89756548e-05,\n",
       "       -8.39767781e-05, -8.16581310e-05, -8.00987779e-05, -7.89760862e-05,\n",
       "       -7.36032459e-05, -7.39394136e-05, -7.24225345e-05, -6.81007158e-05,\n",
       "       -6.79517468e-05, -6.49048345e-05, -6.46734451e-05])"
      ]
     },
     "execution_count": 24,
     "metadata": {},
     "output_type": "execute_result"
    }
   ],
   "source": [
    "res[\"Z_elastic\"].values"
   ]
  }
 ],
 "metadata": {
  "kernelspec": {
   "display_name": "Python 3 (ipykernel)",
   "language": "python",
   "name": "python3"
  },
  "language_info": {
   "codemirror_mode": {
    "name": "ipython",
    "version": 3
   },
   "file_extension": ".py",
   "mimetype": "text/x-python",
   "name": "python",
   "nbconvert_exporter": "python",
   "pygments_lexer": "ipython3",
   "version": "3.9.12"
  }
 },
 "nbformat": 4,
 "nbformat_minor": 5
}
